{
 "cells": [
  {
   "cell_type": "code",
   "execution_count": 14,
   "id": "c959dbe0",
   "metadata": {},
   "outputs": [
    {
     "ename": "OSError",
     "evalue": "[WinError 123] The filename, directory name, or volume label syntax is incorrect: '\\u202aC:\\\\Users\\\\abhir\\\\OneDrive\\\\Desktop\\\\SIFT_TRAINING'",
     "output_type": "error",
     "traceback": [
      "\u001b[1;31m---------------------------------------------------------------------------\u001b[0m",
      "\u001b[1;31mOSError\u001b[0m                                   Traceback (most recent call last)",
      "\u001b[1;32m~\\AppData\\Local\\Temp/ipykernel_3168/3599254142.py\u001b[0m in \u001b[0;36m<module>\u001b[1;34m\u001b[0m\n\u001b[0;32m      5\u001b[0m \u001b[0mpath\u001b[0m \u001b[1;33m=\u001b[0m \u001b[1;34mr\"‪C:\\Users\\abhir\\OneDrive\\Desktop\\SIFT_TRAINING\"\u001b[0m\u001b[1;33m\u001b[0m\u001b[1;33m\u001b[0m\u001b[0m\n\u001b[0;32m      6\u001b[0m \u001b[0mcubefaces\u001b[0m\u001b[1;33m=\u001b[0m\u001b[1;33m[\u001b[0m\u001b[1;33m]\u001b[0m\u001b[1;33m\u001b[0m\u001b[1;33m\u001b[0m\u001b[0m\n\u001b[1;32m----> 7\u001b[1;33m \u001b[0mpathList\u001b[0m \u001b[1;33m=\u001b[0m \u001b[0mos\u001b[0m\u001b[1;33m.\u001b[0m\u001b[0mlistdir\u001b[0m\u001b[1;33m(\u001b[0m\u001b[0mpath\u001b[0m\u001b[1;33m)\u001b[0m\u001b[1;33m\u001b[0m\u001b[1;33m\u001b[0m\u001b[0m\n\u001b[0m\u001b[0;32m      8\u001b[0m \u001b[1;33m\u001b[0m\u001b[0m\n\u001b[0;32m      9\u001b[0m \u001b[1;33m\u001b[0m\u001b[0m\n",
      "\u001b[1;31mOSError\u001b[0m: [WinError 123] The filename, directory name, or volume label syntax is incorrect: '\\u202aC:\\\\Users\\\\abhir\\\\OneDrive\\\\Desktop\\\\SIFT_TRAINING'"
     ]
    }
   ],
   "source": [
    "import cv2\n",
    "import numpy as np\n",
    "import os\n",
    "\n",
    "path = r\"‪C:\\Users\\abhir\\OneDrive\\Desktop\\SIFT_TRAINING\"\n",
    "cubefaces=[]\n",
    "pathList = os.listdir(path)\n",
    "\n",
    "\n",
    "\n",
    "\n",
    "MIN_MATCH_COUNT=15\n",
    "\n",
    "\n",
    "\n",
    "detector = cv2.SIFT_create()\n",
    "\n",
    "bf=cv2.BFMatcher()\n",
    "FLANN_INDEX_KDITREE=0\n",
    "flannParam=dict(algorithm=FLANN_INDEX_KDITREE,tree=5)\n",
    "flann=cv2.FlannBasedMatcher(flannParam,{})\n",
    "\n",
    "trainImg=cv2.imread(r\"C:\\Users\\abhir\\OneDrive\\Desktop\\webcametraining1.jpg\",0)\n",
    "trainKP,trainDesc=detector.detectAndCompute(trainImg,None)\n",
    "##face1=cv2.imread(r\"C:\\Users\\abhir\\OneDrive\\Desktop\\webcametraining1.jpg\",0)\n",
    "#face2=cv2.imread(r\"C:\\Users\\abhir\\OneDrive\\Desktop\\cubetrainingimage2.jpg\",0)\n",
    "#face3=cv2.imread(r\"C:\\Users\\abhir\\OneDrive\\Desktop\\cubetrainingimage3.jpg\",0)\n",
    "#face4=cv2.imread(r\"C:\\Users\\abhir\\OneDrive\\Desktop\\cubetrainingimage4.jpg\",0)\n",
    "\n",
    "\n",
    "#face1KeyPoints,face1Desc=detector.detectAndCompute(face1,None)\n",
    "#face2KeyPoints,face2Desc=detector.detectAndCompute(face2,None)\n",
    "#face3KeyPoints,face3Desc=detector.detectAndCompute(face3,None)\n",
    "#face4KeyPoints,face4Desc=detector.detectAndCompute(face4,None)##\n",
    "\n",
    "\n",
    "\n",
    "cam=cv2.VideoCapture(0)\n",
    "while True:\n",
    "    ret, QueryImgBGR=cam.read()\n",
    "    QueryImg=cv2.cvtColor(QueryImgBGR,cv2.COLOR_BGR2GRAY)\n",
    "    queryKP,queryDesc=detector.detectAndCompute(QueryImg,None)\n",
    "    matches=bf.knnMatch(queryDesc,trainDesc,k=2)\n",
    "\n",
    "    goodMatch=[]\n",
    "    for m,n in matches:\n",
    "        if(m.distance<0.75*n.distance):\n",
    "            goodMatch.append(m)\n",
    "    if(len(goodMatch)>MIN_MATCH_COUNT):\n",
    "        tp=[]\n",
    "        qp=[]\n",
    "        for m in goodMatch:\n",
    "            tp.append(trainKP[m.trainIdx].pt)\n",
    "            qp.append(queryKP[m.queryIdx].pt)\n",
    "        tp,qp=np.float32((tp,qp))\n",
    "        H,status=cv2.findHomography(tp,qp,cv2.RANSAC,3.0)\n",
    "        h,w=trainImg.shape\n",
    "        trainBorder=np.float32([[[0,0],[0,h-1],[w-1,h-1],[w-1,0]]])\n",
    "        queryBorder=cv2.perspectiveTransform(trainBorder,H)\n",
    "        cv2.polylines(QueryImgBGR,[np.int32(queryBorder)],True,(0,255,0),5)\n",
    "    else:\n",
    "        print (\"Not Enough match found\")\n",
    "    cv2.imshow('result',QueryImgBGR)\n",
    "    if cv2.waitKey(10)==ord('q'):\n",
    "        break\n",
    "cam.release()\n",
    "cv2.destroyAllWindows()\n",
    " "
   ]
  },
  {
   "cell_type": "code",
   "execution_count": 52,
   "id": "0956cb9c",
   "metadata": {},
   "outputs": [
    {
     "name": "stdout",
     "output_type": "stream",
     "text": [
      "C:\\Users\\abhir\\SIFT\n",
      "Total Faces: 5\n"
     ]
    },
    {
     "ename": "error",
     "evalue": "OpenCV(4.5.3) :-1: error: (-5:Bad argument) in function 'detectAndCompute'\n> Overload resolution failed:\n>  - image is not a numpy array, neither a scalar\n>  - Expected Ptr<cv::UMat> for argument 'image'\n",
     "output_type": "error",
     "traceback": [
      "\u001b[1;31m---------------------------------------------------------------------------\u001b[0m",
      "\u001b[1;31merror\u001b[0m                                     Traceback (most recent call last)",
      "\u001b[1;32m~\\AppData\\Local\\Temp/ipykernel_3168/3797552693.py\u001b[0m in \u001b[0;36m<module>\u001b[1;34m\u001b[0m\n\u001b[0;32m     18\u001b[0m         \u001b[0mdesclist\u001b[0m\u001b[1;33m.\u001b[0m\u001b[0mappend\u001b[0m\u001b[1;33m(\u001b[0m\u001b[0mtrainDesc\u001b[0m\u001b[1;33m)\u001b[0m\u001b[1;33m\u001b[0m\u001b[1;33m\u001b[0m\u001b[0m\n\u001b[0;32m     19\u001b[0m     \u001b[1;32mreturn\u001b[0m \u001b[0mdesclist\u001b[0m\u001b[1;33m\u001b[0m\u001b[1;33m\u001b[0m\u001b[0m\n\u001b[1;32m---> 20\u001b[1;33m \u001b[0mdesclist\u001b[0m\u001b[1;33m=\u001b[0m\u001b[0mfindDesc\u001b[0m\u001b[1;33m(\u001b[0m\u001b[0mcubefaces\u001b[0m\u001b[1;33m)\u001b[0m\u001b[1;33m\u001b[0m\u001b[1;33m\u001b[0m\u001b[0m\n\u001b[0m",
      "\u001b[1;32m~\\AppData\\Local\\Temp/ipykernel_3168/3797552693.py\u001b[0m in \u001b[0;36mfindDesc\u001b[1;34m(cubefaces)\u001b[0m\n\u001b[0;32m     15\u001b[0m     \u001b[0mdesclist\u001b[0m\u001b[1;33m=\u001b[0m\u001b[1;33m[\u001b[0m\u001b[1;33m]\u001b[0m\u001b[1;33m\u001b[0m\u001b[1;33m\u001b[0m\u001b[0m\n\u001b[0;32m     16\u001b[0m     \u001b[1;32mfor\u001b[0m \u001b[0mimg\u001b[0m \u001b[1;32min\u001b[0m \u001b[0mcubefaces\u001b[0m\u001b[1;33m:\u001b[0m\u001b[1;33m\u001b[0m\u001b[1;33m\u001b[0m\u001b[0m\n\u001b[1;32m---> 17\u001b[1;33m         \u001b[0mtrainKP\u001b[0m\u001b[1;33m,\u001b[0m\u001b[0mtrainDesc\u001b[0m\u001b[1;33m=\u001b[0m\u001b[0morb\u001b[0m\u001b[1;33m.\u001b[0m\u001b[0mdetectAndCompute\u001b[0m\u001b[1;33m(\u001b[0m\u001b[0mimg\u001b[0m\u001b[1;33m,\u001b[0m\u001b[1;32mNone\u001b[0m\u001b[1;33m)\u001b[0m\u001b[1;33m\u001b[0m\u001b[1;33m\u001b[0m\u001b[0m\n\u001b[0m\u001b[0;32m     18\u001b[0m         \u001b[0mdesclist\u001b[0m\u001b[1;33m.\u001b[0m\u001b[0mappend\u001b[0m\u001b[1;33m(\u001b[0m\u001b[0mtrainDesc\u001b[0m\u001b[1;33m)\u001b[0m\u001b[1;33m\u001b[0m\u001b[1;33m\u001b[0m\u001b[0m\n\u001b[0;32m     19\u001b[0m     \u001b[1;32mreturn\u001b[0m \u001b[0mdesclist\u001b[0m\u001b[1;33m\u001b[0m\u001b[1;33m\u001b[0m\u001b[0m\n",
      "\u001b[1;31merror\u001b[0m: OpenCV(4.5.3) :-1: error: (-5:Bad argument) in function 'detectAndCompute'\n> Overload resolution failed:\n>  - image is not a numpy array, neither a scalar\n>  - Expected Ptr<cv::UMat> for argument 'image'\n"
     ]
    }
   ],
   "source": [
    "import cv2\n",
    "import numpy as np\n",
    "import os\n",
    "orb = cv2.ORB_create()\n",
    "basedir = os.path.join(\"C:\\\\\", \"Users\", \"abhir\", \"SIFT\")\n",
    "print(basedir)\n",
    "imageList=os.listdir(basedir)\n",
    "print('Total Faces:',len(imageList))\n",
    "cubefaces=[]\n",
    "for faces in imageList:\n",
    "    currentImage=cv2.imread=(f'{path}\\{faces}')\n",
    "    cubefaces.append(currentImage)\n",
    "    \n",
    "def findDesc(cubefaces):\n",
    "    desclist=[]\n",
    "    for img in cubefaces:\n",
    "        trainKP,trainDesc=orb.detectAndCompute(img,None)\n",
    "        desclist.append(trainDesc)\n",
    "    return desclist\n",
    "desclist=findDesc(cubefaces)\n"
   ]
  },
  {
   "cell_type": "code",
   "execution_count": null,
   "id": "ca96802c",
   "metadata": {},
   "outputs": [],
   "source": [
    "‪C:\\Users\\abhir\\SIFT"
   ]
  },
  {
   "cell_type": "code",
   "execution_count": null,
   "id": "2e20d7e1",
   "metadata": {},
   "outputs": [],
   "source": []
  }
 ],
 "metadata": {
  "kernelspec": {
   "display_name": "tensorflowgpu",
   "language": "python",
   "name": "tensorflowgpu"
  },
  "language_info": {
   "codemirror_mode": {
    "name": "ipython",
    "version": 3
   },
   "file_extension": ".py",
   "mimetype": "text/x-python",
   "name": "python",
   "nbconvert_exporter": "python",
   "pygments_lexer": "ipython3",
   "version": "3.8.11"
  }
 },
 "nbformat": 4,
 "nbformat_minor": 5
}
